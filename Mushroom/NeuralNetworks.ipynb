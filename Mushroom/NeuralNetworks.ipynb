{
 "cells": [
  {
   "cell_type": "code",
   "execution_count": 218,
   "id": "bb249e8c",
   "metadata": {},
   "outputs": [],
   "source": [
    "import numpy as np\n",
    "import pandas as pd\n",
    "import matplotlib.pyplot as plt\n",
    "import seaborn as sns\n",
    "import warnings\n",
    "warnings.filterwarnings('ignore')\n",
    "from sklearn.model_selection import train_test_split\n",
    "from sklearn.metrics import precision_recall_curve\n",
    "from sklearn.metrics import precision_score\n",
    "from sklearn.metrics import recall_score\n",
    "from sklearn.metrics import f1_score\n",
    "from sklearn.metrics import roc_curve\n",
    "from sklearn.metrics import roc_auc_score\n",
    "from sklearn.metrics import confusion_matrix\n",
    "from sklearn import metrics \n",
    "from sklearn.preprocessing import OneHotEncoder\n",
    "from sklearn.model_selection import cross_val_predict\n",
    "from sklearn.linear_model import Perceptron\n",
    "from sklearn import metrics \n",
    "from sklearn.model_selection import cross_val_score\n",
    "from keras.callbacks import LearningRateScheduler\n",
    "import tensorflow as tf\n",
    "from tensorflow import keras\n",
    "from keras import backend as K"
   ]
  },
  {
   "cell_type": "code",
   "execution_count": 219,
   "id": "ddfb21c0",
   "metadata": {},
   "outputs": [
    {
     "data": {
      "text/html": [
       "<div>\n",
       "<style scoped>\n",
       "    .dataframe tbody tr th:only-of-type {\n",
       "        vertical-align: middle;\n",
       "    }\n",
       "\n",
       "    .dataframe tbody tr th {\n",
       "        vertical-align: top;\n",
       "    }\n",
       "\n",
       "    .dataframe thead th {\n",
       "        text-align: right;\n",
       "    }\n",
       "</style>\n",
       "<table border=\"1\" class=\"dataframe\">\n",
       "  <thead>\n",
       "    <tr style=\"text-align: right;\">\n",
       "      <th></th>\n",
       "      <th>class</th>\n",
       "      <th>cap-shape</th>\n",
       "      <th>cap-surface</th>\n",
       "      <th>cap-color</th>\n",
       "      <th>bruises</th>\n",
       "      <th>odor</th>\n",
       "      <th>gill-attachment</th>\n",
       "      <th>gill-spacing</th>\n",
       "      <th>gill-size</th>\n",
       "      <th>gill-color</th>\n",
       "      <th>...</th>\n",
       "      <th>stalk-surface-below-ring</th>\n",
       "      <th>stalk-color-above-ring</th>\n",
       "      <th>stalk-color-below-ring</th>\n",
       "      <th>veil-type</th>\n",
       "      <th>veil-color</th>\n",
       "      <th>ring-number</th>\n",
       "      <th>ring-type</th>\n",
       "      <th>spore-print-color</th>\n",
       "      <th>population</th>\n",
       "      <th>habitat</th>\n",
       "    </tr>\n",
       "  </thead>\n",
       "  <tbody>\n",
       "    <tr>\n",
       "      <th>0</th>\n",
       "      <td>p</td>\n",
       "      <td>x</td>\n",
       "      <td>s</td>\n",
       "      <td>n</td>\n",
       "      <td>t</td>\n",
       "      <td>p</td>\n",
       "      <td>f</td>\n",
       "      <td>c</td>\n",
       "      <td>n</td>\n",
       "      <td>k</td>\n",
       "      <td>...</td>\n",
       "      <td>s</td>\n",
       "      <td>w</td>\n",
       "      <td>w</td>\n",
       "      <td>p</td>\n",
       "      <td>w</td>\n",
       "      <td>o</td>\n",
       "      <td>p</td>\n",
       "      <td>k</td>\n",
       "      <td>s</td>\n",
       "      <td>u</td>\n",
       "    </tr>\n",
       "    <tr>\n",
       "      <th>1</th>\n",
       "      <td>e</td>\n",
       "      <td>x</td>\n",
       "      <td>s</td>\n",
       "      <td>y</td>\n",
       "      <td>t</td>\n",
       "      <td>a</td>\n",
       "      <td>f</td>\n",
       "      <td>c</td>\n",
       "      <td>b</td>\n",
       "      <td>k</td>\n",
       "      <td>...</td>\n",
       "      <td>s</td>\n",
       "      <td>w</td>\n",
       "      <td>w</td>\n",
       "      <td>p</td>\n",
       "      <td>w</td>\n",
       "      <td>o</td>\n",
       "      <td>p</td>\n",
       "      <td>n</td>\n",
       "      <td>n</td>\n",
       "      <td>g</td>\n",
       "    </tr>\n",
       "    <tr>\n",
       "      <th>2</th>\n",
       "      <td>e</td>\n",
       "      <td>b</td>\n",
       "      <td>s</td>\n",
       "      <td>w</td>\n",
       "      <td>t</td>\n",
       "      <td>l</td>\n",
       "      <td>f</td>\n",
       "      <td>c</td>\n",
       "      <td>b</td>\n",
       "      <td>n</td>\n",
       "      <td>...</td>\n",
       "      <td>s</td>\n",
       "      <td>w</td>\n",
       "      <td>w</td>\n",
       "      <td>p</td>\n",
       "      <td>w</td>\n",
       "      <td>o</td>\n",
       "      <td>p</td>\n",
       "      <td>n</td>\n",
       "      <td>n</td>\n",
       "      <td>m</td>\n",
       "    </tr>\n",
       "    <tr>\n",
       "      <th>3</th>\n",
       "      <td>p</td>\n",
       "      <td>x</td>\n",
       "      <td>y</td>\n",
       "      <td>w</td>\n",
       "      <td>t</td>\n",
       "      <td>p</td>\n",
       "      <td>f</td>\n",
       "      <td>c</td>\n",
       "      <td>n</td>\n",
       "      <td>n</td>\n",
       "      <td>...</td>\n",
       "      <td>s</td>\n",
       "      <td>w</td>\n",
       "      <td>w</td>\n",
       "      <td>p</td>\n",
       "      <td>w</td>\n",
       "      <td>o</td>\n",
       "      <td>p</td>\n",
       "      <td>k</td>\n",
       "      <td>s</td>\n",
       "      <td>u</td>\n",
       "    </tr>\n",
       "    <tr>\n",
       "      <th>4</th>\n",
       "      <td>e</td>\n",
       "      <td>x</td>\n",
       "      <td>s</td>\n",
       "      <td>g</td>\n",
       "      <td>f</td>\n",
       "      <td>n</td>\n",
       "      <td>f</td>\n",
       "      <td>w</td>\n",
       "      <td>b</td>\n",
       "      <td>k</td>\n",
       "      <td>...</td>\n",
       "      <td>s</td>\n",
       "      <td>w</td>\n",
       "      <td>w</td>\n",
       "      <td>p</td>\n",
       "      <td>w</td>\n",
       "      <td>o</td>\n",
       "      <td>e</td>\n",
       "      <td>n</td>\n",
       "      <td>a</td>\n",
       "      <td>g</td>\n",
       "    </tr>\n",
       "  </tbody>\n",
       "</table>\n",
       "<p>5 rows × 23 columns</p>\n",
       "</div>"
      ],
      "text/plain": [
       "  class cap-shape cap-surface cap-color bruises odor gill-attachment  \\\n",
       "0     p         x           s         n       t    p               f   \n",
       "1     e         x           s         y       t    a               f   \n",
       "2     e         b           s         w       t    l               f   \n",
       "3     p         x           y         w       t    p               f   \n",
       "4     e         x           s         g       f    n               f   \n",
       "\n",
       "  gill-spacing gill-size gill-color  ... stalk-surface-below-ring  \\\n",
       "0            c         n          k  ...                        s   \n",
       "1            c         b          k  ...                        s   \n",
       "2            c         b          n  ...                        s   \n",
       "3            c         n          n  ...                        s   \n",
       "4            w         b          k  ...                        s   \n",
       "\n",
       "  stalk-color-above-ring stalk-color-below-ring veil-type veil-color  \\\n",
       "0                      w                      w         p          w   \n",
       "1                      w                      w         p          w   \n",
       "2                      w                      w         p          w   \n",
       "3                      w                      w         p          w   \n",
       "4                      w                      w         p          w   \n",
       "\n",
       "  ring-number ring-type spore-print-color population habitat  \n",
       "0           o         p                 k          s       u  \n",
       "1           o         p                 n          n       g  \n",
       "2           o         p                 n          n       m  \n",
       "3           o         p                 k          s       u  \n",
       "4           o         e                 n          a       g  \n",
       "\n",
       "[5 rows x 23 columns]"
      ]
     },
     "execution_count": 219,
     "metadata": {},
     "output_type": "execute_result"
    }
   ],
   "source": [
    "mushroom_data=pd.read_csv(\"mushrooms.csv\")#Read the whole data\n",
    "Mushroom_DataBayes=mushroom_data\n",
    "mushroom_data.head()#display first 5 instances"
   ]
  },
  {
   "cell_type": "code",
   "execution_count": 220,
   "id": "428a744a",
   "metadata": {},
   "outputs": [],
   "source": [
    "mushroom_target=mushroom_data[\"class\"].apply(lambda x : 1 if x == \"p\" else 0)#\n",
    "mushroom_data=mushroom_data.drop([\"veil-type\",\"veil-color\",\"ring-number\",\"gill-attachment\"],axis=1)\n",
    "\n",
    "columns=np.array(mushroom_data.columns)\n",
    "\n"
   ]
  },
  {
   "cell_type": "code",
   "execution_count": 221,
   "id": "fdfff9b7",
   "metadata": {},
   "outputs": [
    {
     "name": "stdout",
     "output_type": "stream",
     "text": [
      "The features are - Index(['cap-shape', 'cap-surface', 'cap-color', 'bruises', 'odor',\n",
      "       'gill-spacing', 'gill-size', 'gill-color', 'stalk-shape', 'stalk-root',\n",
      "       'stalk-surface-above-ring', 'stalk-surface-below-ring',\n",
      "       'stalk-color-above-ring', 'stalk-color-below-ring', 'ring-type',\n",
      "       'spore-print-color', 'population', 'habitat'],\n",
      "      dtype='object')\n"
     ]
    }
   ],
   "source": [
    "mushroom_features=mushroom_data.drop([\"class\"],axis=1)#drop the target class column\n",
    "print(\"The features are -\",mushroom_features.columns)"
   ]
  },
  {
   "cell_type": "code",
   "execution_count": 222,
   "id": "81f161a0",
   "metadata": {},
   "outputs": [],
   "source": [
    "#######Data Preprocessing#####\n",
    "one_hot=OneHotEncoder()\n",
    "mushroom_coded_value=one_hot.fit_transform(mushroom_features)\n",
    "mushroom_coded_value=mushroom_coded_value.toarray()#converting sparse matrix to numpy array\n",
    "\n",
    "\n",
    "columns=columns.reshape((-1,1))\n",
    "categorical_features=columns\n",
    "########Giving proper names to columns after encoding#####\n",
    "onehot_feat_names=OneHotEncoder(handle_unknown='ignore')\n",
    "mushroom_fullcoded=onehot_feat_names.fit_transform(mushroom_data)\n",
    "cat_names=onehot_feat_names.get_feature_names(categorical_features)\n",
    "cat_names=cat_names.flatten()\n",
    "mushroom_col=pd.DataFrame.sparse.from_spmatrix(mushroom_fullcoded,columns=cat_names)\n",
    "#print(mushroom_col)"
   ]
  },
  {
   "cell_type": "code",
   "execution_count": 223,
   "id": "dd9d271a",
   "metadata": {},
   "outputs": [],
   "source": [
    "#######Splitting into train and test data#####\n",
    "X_train,X_test,y_train,y_test=train_test_split(mushroom_coded_value,mushroom_target,test_size=0.2,random_state=42)"
   ]
  },
  {
   "cell_type": "markdown",
   "id": "649e32bc",
   "metadata": {},
   "source": [
    "# Perceptron"
   ]
  },
  {
   "cell_type": "code",
   "execution_count": 224,
   "id": "742cf4e4",
   "metadata": {},
   "outputs": [
    {
     "data": {
      "text/plain": [
       "array([0, 1, 1, ..., 1, 1, 1], dtype=int64)"
      ]
     },
     "execution_count": 224,
     "metadata": {},
     "output_type": "execute_result"
    }
   ],
   "source": [
    "per_clf= Perceptron(max_iter=1000, tol=1e-3, random_state=42)\n",
    "per_clf.fit(X_train, y_train)\n",
    "y_pred=per_clf.predict(X_test)\n",
    "y_pred"
   ]
  },
  {
   "cell_type": "code",
   "execution_count": 225,
   "id": "fc280159",
   "metadata": {},
   "outputs": [
    {
     "data": {
      "text/plain": [
       "100.0"
      ]
     },
     "execution_count": 225,
     "metadata": {},
     "output_type": "execute_result"
    }
   ],
   "source": [
    "metrics.accuracy_score(y_test,y_pred)*100"
   ]
  },
  {
   "cell_type": "code",
   "execution_count": 226,
   "id": "62d09403",
   "metadata": {},
   "outputs": [],
   "source": [
    "crossvalscore=cross_val_score(per_clf,X_train,y_train,cv=10, scoring=\"accuracy\")"
   ]
  },
  {
   "cell_type": "code",
   "execution_count": 227,
   "id": "4838b95d",
   "metadata": {},
   "outputs": [],
   "source": [
    "def crossvalscore_NN():\n",
    "    print(\"Scores\",crossvalscore)\n",
    "    print(\"Mean accuracy of scores\",crossvalscore.mean()*100)\n",
    "    print(\"Standard deviation of scores\",crossvalscore.std())\n"
   ]
  },
  {
   "cell_type": "code",
   "execution_count": 228,
   "id": "827242c9",
   "metadata": {},
   "outputs": [
    {
     "name": "stdout",
     "output_type": "stream",
     "text": [
      "Scores [1.         1.         1.         1.         1.         1.\n",
      " 1.         0.99846154 1.         1.        ]\n",
      "Mean accuracy of scores 99.98461538461537\n",
      "Standard deviation of scores 0.00046153846153844657\n"
     ]
    }
   ],
   "source": [
    "crossvalscore_NN()"
   ]
  },
  {
   "cell_type": "markdown",
   "id": "a676c4e6",
   "metadata": {},
   "source": [
    "# MultiLayer Perceptron"
   ]
  },
  {
   "cell_type": "code",
   "execution_count": null,
   "id": "4dd2c0ed",
   "metadata": {},
   "outputs": [],
   "source": []
  },
  {
   "cell_type": "markdown",
   "id": "a3aca30d",
   "metadata": {},
   "source": [
    "# activation_function~(relu,relu,softmax)"
   ]
  },
  {
   "cell_type": "code",
   "execution_count": 229,
   "id": "9d37d4cc",
   "metadata": {},
   "outputs": [],
   "source": [
    "model = keras.models.Sequential()\n",
    "model.add(keras.layers.Flatten(input_shape=[107]))\n",
    "model.add(keras.layers.Dense(30, activation=\"relu\"))\n",
    "model.add(keras.layers.Dense(20, activation=\"relu\"))\n",
    "model.add(keras.layers.Dense(1, activation=\"softmax\"))"
   ]
  },
  {
   "cell_type": "code",
   "execution_count": 230,
   "id": "fc66433a",
   "metadata": {},
   "outputs": [
    {
     "name": "stdout",
     "output_type": "stream",
     "text": [
      "Model: \"sequential_10\"\n",
      "_________________________________________________________________\n",
      "Layer (type)                 Output Shape              Param #   \n",
      "=================================================================\n",
      "flatten_10 (Flatten)         (None, 107)               0         \n",
      "_________________________________________________________________\n",
      "dense_29 (Dense)             (None, 30)                3240      \n",
      "_________________________________________________________________\n",
      "dense_30 (Dense)             (None, 20)                620       \n",
      "_________________________________________________________________\n",
      "dense_31 (Dense)             (None, 1)                 21        \n",
      "=================================================================\n",
      "Total params: 3,881\n",
      "Trainable params: 3,881\n",
      "Non-trainable params: 0\n",
      "_________________________________________________________________\n"
     ]
    }
   ],
   "source": [
    "model.summary()"
   ]
  },
  {
   "cell_type": "code",
   "execution_count": 231,
   "id": "679dd5ec",
   "metadata": {},
   "outputs": [],
   "source": [
    "hidden_layer1=model.layers[1]"
   ]
  },
  {
   "cell_type": "code",
   "execution_count": 232,
   "id": "b557acec",
   "metadata": {},
   "outputs": [],
   "source": [
    "weights, biases=hidden_layer1.get_weights()"
   ]
  },
  {
   "cell_type": "code",
   "execution_count": 233,
   "id": "e5d130c5",
   "metadata": {},
   "outputs": [
    {
     "data": {
      "text/plain": [
       "array([[-0.01419488, -0.01797806, -0.15909517, ...,  0.06851088,\n",
       "        -0.14215702, -0.03035741],\n",
       "       [ 0.19787742, -0.20411572,  0.00071988, ..., -0.16448031,\n",
       "         0.14372917,  0.06247865],\n",
       "       [ 0.15563731,  0.0700127 , -0.13327894, ...,  0.17139815,\n",
       "        -0.11797505,  0.06927069],\n",
       "       ...,\n",
       "       [-0.14782444,  0.05337398, -0.1273903 , ...,  0.03164434,\n",
       "         0.2017986 , -0.15581039],\n",
       "       [-0.08284536, -0.18730694, -0.05891106, ..., -0.15710257,\n",
       "         0.03713402,  0.04139774],\n",
       "       [ 0.19940688, -0.03764749,  0.01144189, ...,  0.20594497,\n",
       "         0.08397128,  0.00660129]], dtype=float32)"
      ]
     },
     "execution_count": 233,
     "metadata": {},
     "output_type": "execute_result"
    }
   ],
   "source": [
    "weights"
   ]
  },
  {
   "cell_type": "code",
   "execution_count": 234,
   "id": "918c755a",
   "metadata": {},
   "outputs": [
    {
     "data": {
      "image/png": "[encoded data removed]",
      "text/plain": [
       "<IPython.core.display.Image object>"
      ]
     },
     "execution_count": 234,
     "metadata": {},
     "output_type": "execute_result"
    }
   ],
   "source": [
    "keras.utils.plot_model(model, \"Mushroom.png\", show_shapes=True)"
   ]
  },
  {
   "cell_type": "code",
   "execution_count": 235,
   "id": "4081f68f",
   "metadata": {},
   "outputs": [],
   "source": [
    "model.compile(loss=\"Hinge\",\n",
    "              optimizer=\"sgd\",\n",
    "              metrics=[\"accuracy\"])"
   ]
  },
  {
   "cell_type": "code",
   "execution_count": 236,
   "id": "9a693c60",
   "metadata": {},
   "outputs": [
    {
     "name": "stdout",
     "output_type": "stream",
     "text": [
      "Epoch 1/30\n",
      "204/204 [==============================] - 0s 672us/step - loss: 1.0355 - accuracy: 0.4822\n",
      "Epoch 2/30\n",
      "204/204 [==============================] - 0s 613us/step - loss: 1.0355 - accuracy: 0.4822\n",
      "Epoch 3/30\n",
      "204/204 [==============================] - 0s 635us/step - loss: 1.0355 - accuracy: 0.4822\n",
      "Epoch 4/30\n",
      "204/204 [==============================] - 0s 661us/step - loss: 1.0355 - accuracy: 0.4822\n",
      "Epoch 5/30\n",
      "204/204 [==============================] - 0s 700us/step - loss: 1.0355 - accuracy: 0.4822\n",
      "Epoch 6/30\n",
      "204/204 [==============================] - 0s 684us/step - loss: 1.0355 - accuracy: 0.4822\n",
      "Epoch 7/30\n",
      "204/204 [==============================] - 0s 680us/step - loss: 1.0355 - accuracy: 0.4822\n",
      "Epoch 8/30\n",
      "204/204 [==============================] - 0s 648us/step - loss: 1.0355 - accuracy: 0.4822\n",
      "Epoch 9/30\n",
      "204/204 [==============================] - 0s 678us/step - loss: 1.0355 - accuracy: 0.4822\n",
      "Epoch 10/30\n",
      "204/204 [==============================] - 0s 684us/step - loss: 1.0355 - accuracy: 0.4822\n",
      "Epoch 11/30\n",
      "204/204 [==============================] - 0s 687us/step - loss: 1.0355 - accuracy: 0.4822\n",
      "Epoch 12/30\n",
      "204/204 [==============================] - 0s 635us/step - loss: 1.0355 - accuracy: 0.4822\n",
      "Epoch 13/30\n",
      "204/204 [==============================] - 0s 690us/step - loss: 1.0355 - accuracy: 0.4822\n",
      "Epoch 14/30\n",
      "204/204 [==============================] - 0s 696us/step - loss: 1.0355 - accuracy: 0.4822\n",
      "Epoch 15/30\n",
      "204/204 [==============================] - 0s 705us/step - loss: 1.0355 - accuracy: 0.4822\n",
      "Epoch 16/30\n",
      "204/204 [==============================] - 0s 658us/step - loss: 1.0355 - accuracy: 0.4822\n",
      "Epoch 17/30\n",
      "204/204 [==============================] - 0s 868us/step - loss: 1.0355 - accuracy: 0.4822\n",
      "Epoch 18/30\n",
      "204/204 [==============================] - 0s 2ms/step - loss: 1.0355 - accuracy: 0.4822\n",
      "Epoch 19/30\n",
      "204/204 [==============================] - 0s 2ms/step - loss: 1.0355 - accuracy: 0.4822\n",
      "Epoch 20/30\n",
      "204/204 [==============================] - 0s 2ms/step - loss: 1.0355 - accuracy: 0.4822\n",
      "Epoch 21/30\n",
      "204/204 [==============================] - 0s 2ms/step - loss: 1.0355 - accuracy: 0.4822\n",
      "Epoch 22/30\n",
      "204/204 [==============================] - 0s 2ms/step - loss: 1.0355 - accuracy: 0.4822\n",
      "Epoch 23/30\n",
      "204/204 [==============================] - 0s 2ms/step - loss: 1.0355 - accuracy: 0.4822\n",
      "Epoch 24/30\n",
      "204/204 [==============================] - 0s 2ms/step - loss: 1.0355 - accuracy: 0.4822\n",
      "Epoch 25/30\n",
      "204/204 [==============================] - 0s 2ms/step - loss: 1.0355 - accuracy: 0.4822\n",
      "Epoch 26/30\n",
      "204/204 [==============================] - 0s 2ms/step - loss: 1.0355 - accuracy: 0.4822\n",
      "Epoch 27/30\n",
      "204/204 [==============================] - 0s 2ms/step - loss: 1.0355 - accuracy: 0.4822\n",
      "Epoch 28/30\n",
      "204/204 [==============================] - 0s 2ms/step - loss: 1.0355 - accuracy: 0.4822\n",
      "Epoch 29/30\n",
      "204/204 [==============================] - 0s 2ms/step - loss: 1.0355 - accuracy: 0.4822\n",
      "Epoch 30/30\n",
      "204/204 [==============================] - 0s 2ms/step - loss: 1.0355 - accuracy: 0.4822\n"
     ]
    }
   ],
   "source": [
    "history = model.fit(X_train, y_train, epochs=30)"
   ]
  },
  {
   "cell_type": "code",
   "execution_count": 237,
   "id": "f1e77ad4",
   "metadata": {},
   "outputs": [
    {
     "data": {
      "text/plain": [
       "dict_keys(['loss', 'accuracy'])"
      ]
     },
     "execution_count": 237,
     "metadata": {},
     "output_type": "execute_result"
    }
   ],
   "source": [
    "history.history.keys()"
   ]
  },
  {
   "cell_type": "code",
   "execution_count": 238,
   "id": "0521fe3e",
   "metadata": {},
   "outputs": [
    {
     "data": {
      "image/png": "[encoded data removed]",
      "text/plain": [
       "<Figure size 576x360 with 1 Axes>"
      ]
     },
     "metadata": {
      "needs_background": "light"
     },
     "output_type": "display_data"
    }
   ],
   "source": [
    "import pandas as pd\n",
    "\n",
    "pd.DataFrame(history.history).plot(figsize=(8, 5))\n",
    "plt.grid(True)\n",
    "plt.gca().set_ylim(0, 1)\n",
    "plt.show()"
   ]
  },
  {
   "cell_type": "code",
   "execution_count": 239,
   "id": "f18eee23",
   "metadata": {},
   "outputs": [
    {
     "name": "stdout",
     "output_type": "stream",
     "text": [
      "51/51 [==============================] - 0s 607us/step - loss: 1.0375 - accuracy: 0.4812\n"
     ]
    },
    {
     "data": {
      "text/plain": [
       "[1.0375384092330933, 0.481230765581131]"
      ]
     },
     "execution_count": 239,
     "metadata": {},
     "output_type": "execute_result"
    }
   ],
   "source": [
    "model.evaluate(X_test, y_test)"
   ]
  },
  {
   "cell_type": "code",
   "execution_count": 240,
   "id": "d3121595",
   "metadata": {},
   "outputs": [
    {
     "data": {
      "text/plain": [
       "array([[1.],\n",
       "       [1.],\n",
       "       [1.],\n",
       "       ...,\n",
       "       [1.],\n",
       "       [1.],\n",
       "       [1.]], dtype=float32)"
      ]
     },
     "execution_count": 240,
     "metadata": {},
     "output_type": "execute_result"
    }
   ],
   "source": [
    "y_proba = model.predict(X_test)\n",
    "y_proba.round(2)\n"
   ]
  },
  {
   "cell_type": "code",
   "execution_count": 241,
   "id": "9947e8a0",
   "metadata": {},
   "outputs": [
    {
     "data": {
      "text/plain": [
       "array([[1.],\n",
       "       [1.],\n",
       "       [1.]], dtype=float32)"
      ]
     },
     "execution_count": 241,
     "metadata": {},
     "output_type": "execute_result"
    }
   ],
   "source": [
    "X_new = X_test[:3]\n",
    "y_proba = model.predict(X_new)\n",
    "y_proba.round(2)"
   ]
  },
  {
   "cell_type": "code",
   "execution_count": 242,
   "id": "e13ffc85",
   "metadata": {},
   "outputs": [
    {
     "data": {
      "text/plain": [
       "array([[1],\n",
       "       [1],\n",
       "       [1]])"
      ]
     },
     "execution_count": 242,
     "metadata": {},
     "output_type": "execute_result"
    }
   ],
   "source": [
    "model.predict_classes(X_new)"
   ]
  },
  {
   "cell_type": "code",
   "execution_count": 243,
   "id": "c53056d5",
   "metadata": {},
   "outputs": [
    {
     "data": {
      "text/plain": [
       "1971    0\n",
       "6654    1\n",
       "5606    1\n",
       "Name: class, dtype: int64"
      ]
     },
     "execution_count": 243,
     "metadata": {},
     "output_type": "execute_result"
    }
   ],
   "source": [
    "y_new = y_test[:3]\n",
    "y_new"
   ]
  },
  {
   "cell_type": "markdown",
   "id": "167b9a72",
   "metadata": {},
   "source": [
    "# MODEL 2"
   ]
  },
  {
   "cell_type": "code",
   "execution_count": 244,
   "id": "158d8fc0",
   "metadata": {},
   "outputs": [],
   "source": [
    "optimizer = keras.optimizers.Adam(lr=0.01)"
   ]
  },
  {
   "cell_type": "markdown",
   "id": "7b215b7b",
   "metadata": {},
   "source": [
    "# activation~(relu,tanh,sigmoid)"
   ]
  },
  {
   "cell_type": "code",
   "execution_count": 245,
   "id": "3386bd4e",
   "metadata": {},
   "outputs": [],
   "source": [
    "model2 = keras.models.Sequential()\n",
    "model2.add(keras.layers.Flatten(input_shape=[107]))\n",
    "model2.add(keras.layers.Dense(10, activation=\"relu\"))\n",
    "model2.add(keras.layers.Dense(5, activation=\"tanh\"))\n",
    "model2.add(keras.layers.Dense(1, activation=\"sigmoid\"))"
   ]
  },
  {
   "cell_type": "code",
   "execution_count": 246,
   "id": "92f49a17",
   "metadata": {},
   "outputs": [
    {
     "name": "stdout",
     "output_type": "stream",
     "text": [
      "Model: \"sequential_11\"\n",
      "_________________________________________________________________\n",
      "Layer (type)                 Output Shape              Param #   \n",
      "=================================================================\n",
      "flatten_11 (Flatten)         (None, 107)               0         \n",
      "_________________________________________________________________\n",
      "dense_32 (Dense)             (None, 10)                1080      \n",
      "_________________________________________________________________\n",
      "dense_33 (Dense)             (None, 5)                 55        \n",
      "_________________________________________________________________\n",
      "dense_34 (Dense)             (None, 1)                 6         \n",
      "=================================================================\n",
      "Total params: 1,141\n",
      "Trainable params: 1,141\n",
      "Non-trainable params: 0\n",
      "_________________________________________________________________\n"
     ]
    }
   ],
   "source": [
    "model2.summary()"
   ]
  },
  {
   "cell_type": "code",
   "execution_count": 247,
   "id": "30948a8d",
   "metadata": {},
   "outputs": [],
   "source": [
    "model2.compile(loss=\"binary_crossentropy\",\n",
    "              optimizer=optimizer,\n",
    "              metrics=[\"accuracy\"])"
   ]
  },
  {
   "cell_type": "markdown",
   "id": "97a8ef81",
   "metadata": {},
   "source": [
    "# epochs=50"
   ]
  },
  {
   "cell_type": "code",
   "execution_count": 248,
   "id": "7410e873",
   "metadata": {},
   "outputs": [
    {
     "name": "stdout",
     "output_type": "stream",
     "text": [
      "Epoch 1/50\n",
      "204/204 [==============================] - 0s 665us/step - loss: 0.0677 - accuracy: 0.9774\n",
      "Epoch 2/50\n",
      "204/204 [==============================] - 0s 695us/step - loss: 0.0032 - accuracy: 0.9997\n",
      "Epoch 3/50\n",
      "204/204 [==============================] - 0s 661us/step - loss: 8.2906e-04 - accuracy: 1.0000\n",
      "Epoch 4/50\n",
      "204/204 [==============================] - 0s 655us/step - loss: 4.7467e-04 - accuracy: 1.0000\n",
      "Epoch 5/50\n",
      "204/204 [==============================] - 0s 717us/step - loss: 3.1495e-04 - accuracy: 1.0000\n",
      "Epoch 6/50\n",
      "204/204 [==============================] - 0s 658us/step - loss: 2.2565e-04 - accuracy: 1.0000\n",
      "Epoch 7/50\n",
      "204/204 [==============================] - 0s 710us/step - loss: 1.6983e-04 - accuracy: 1.0000\n",
      "Epoch 8/50\n",
      "204/204 [==============================] - 0s 704us/step - loss: 1.3233e-04 - accuracy: 1.0000\n",
      "Epoch 9/50\n",
      "204/204 [==============================] - 0s 784us/step - loss: 1.0580e-04 - accuracy: 1.0000\n",
      "Epoch 10/50\n",
      "204/204 [==============================] - 0s 750us/step - loss: 8.6232e-05 - accuracy: 1.0000\n",
      "Epoch 11/50\n",
      "204/204 [==============================] - 0s 690us/step - loss: 7.1388e-05 - accuracy: 1.0000\n",
      "Epoch 12/50\n",
      "204/204 [==============================] - 0s 723us/step - loss: 5.9812e-05 - accuracy: 1.0000\n",
      "Epoch 13/50\n",
      "204/204 [==============================] - 0s 680us/step - loss: 5.0639e-05 - accuracy: 1.0000\n",
      "Epoch 14/50\n",
      "204/204 [==============================] - 0s 734us/step - loss: 4.3241e-05 - accuracy: 1.0000\n",
      "Epoch 15/50\n",
      "204/204 [==============================] - 0s 711us/step - loss: 3.7179e-05 - accuracy: 1.0000\n",
      "Epoch 16/50\n",
      "204/204 [==============================] - 0s 740us/step - loss: 3.2162e-05 - accuracy: 1.0000\n",
      "Epoch 17/50\n",
      "204/204 [==============================] - 0s 734us/step - loss: 2.7967e-05 - accuracy: 1.0000\n",
      "Epoch 18/50\n",
      "204/204 [==============================] - 0s 763us/step - loss: 2.4422e-05 - accuracy: 1.0000\n",
      "Epoch 19/50\n",
      "204/204 [==============================] - 0s 914us/step - loss: 2.1410e-05 - accuracy: 1.0000\n",
      "Epoch 20/50\n",
      "204/204 [==============================] - 0s 1ms/step - loss: 1.8834e-05 - accuracy: 1.0000\n",
      "Epoch 21/50\n",
      "204/204 [==============================] - 0s 960us/step - loss: 1.6615e-05 - accuracy: 1.0000\n",
      "Epoch 22/50\n",
      "204/204 [==============================] - 0s 814us/step - loss: 1.4695e-05 - accuracy: 1.0000\n",
      "Epoch 23/50\n",
      "204/204 [==============================] - 0s 925us/step - loss: 1.3025e-05 - accuracy: 1.0000\n",
      "Epoch 24/50\n",
      "204/204 [==============================] - 0s 714us/step - loss: 1.1569e-05 - accuracy: 1.0000\n",
      "Epoch 25/50\n",
      "204/204 [==============================] - 0s 916us/step - loss: 1.0294e-05 - accuracy: 1.0000\n",
      "Epoch 26/50\n",
      "204/204 [==============================] - 0s 785us/step - loss: 9.1732e-06 - accuracy: 1.0000\n",
      "Epoch 27/50\n",
      "204/204 [==============================] - 0s 834us/step - loss: 8.1855e-06 - accuracy: 1.0000\n",
      "Epoch 28/50\n",
      "204/204 [==============================] - 0s 830us/step - loss: 7.3130e-06 - accuracy: 1.0000\n",
      "Epoch 29/50\n",
      "204/204 [==============================] - 0s 822us/step - loss: 6.5411e-06 - accuracy: 1.0000\n",
      "Epoch 30/50\n",
      "204/204 [==============================] - 0s 831us/step - loss: 5.8564e-06 - accuracy: 1.0000\n",
      "Epoch 31/50\n",
      "204/204 [==============================] - 0s 855us/step - loss: 5.2475e-06 - accuracy: 1.0000\n",
      "Epoch 32/50\n",
      "204/204 [==============================] - 0s 852us/step - loss: 4.7060e-06 - accuracy: 1.0000\n",
      "Epoch 33/50\n",
      "204/204 [==============================] - 0s 867us/step - loss: 4.2234e-06 - accuracy: 1.0000\n",
      "Epoch 34/50\n",
      "204/204 [==============================] - 0s 881us/step - loss: 3.7926e-06 - accuracy: 1.0000\n",
      "Epoch 35/50\n",
      "204/204 [==============================] - 0s 947us/step - loss: 3.4075e-06 - accuracy: 1.0000\n",
      "Epoch 36/50\n",
      "204/204 [==============================] - 0s 861us/step - loss: 3.0628e-06 - accuracy: 1.0000\n",
      "Epoch 37/50\n",
      "204/204 [==============================] - 0s 852us/step - loss: 2.7544e-06 - accuracy: 1.0000\n",
      "Epoch 38/50\n",
      "204/204 [==============================] - 0s 902us/step - loss: 2.4780e-06 - accuracy: 1.0000\n",
      "Epoch 39/50\n",
      "204/204 [==============================] - 0s 910us/step - loss: 2.2302e-06 - accuracy: 1.0000\n",
      "Epoch 40/50\n",
      "204/204 [==============================] - 0s 988us/step - loss: 2.0079e-06 - accuracy: 1.0000\n",
      "Epoch 41/50\n",
      "204/204 [==============================] - 0s 1ms/step - loss: 1.8083e-06 - accuracy: 1.0000\n",
      "Epoch 42/50\n",
      "204/204 [==============================] - 0s 2ms/step - loss: 1.6290e-06 - accuracy: 1.0000\n",
      "Epoch 43/50\n",
      "204/204 [==============================] - 0s 2ms/step - loss: 1.4679e-06 - accuracy: 1.0000\n",
      "Epoch 44/50\n",
      "204/204 [==============================] - 0s 2ms/step - loss: 1.3229e-06 - accuracy: 1.0000\n",
      "Epoch 45/50\n",
      "204/204 [==============================] - 1s 3ms/step - loss: 1.1925e-06 - accuracy: 1.0000\n",
      "Epoch 46/50\n",
      "204/204 [==============================] - 0s 2ms/step - loss: 1.0752e-06 - accuracy: 1.0000\n",
      "Epoch 47/50\n",
      "204/204 [==============================] - 0s 2ms/step - loss: 9.6953e-07 - accuracy: 1.0000\n",
      "Epoch 48/50\n",
      "204/204 [==============================] - 0s 2ms/step - loss: 8.7441e-07 - accuracy: 1.0000\n",
      "Epoch 49/50\n",
      "204/204 [==============================] - 0s 2ms/step - loss: 7.8871e-07 - accuracy: 1.0000\n",
      "Epoch 50/50\n",
      "204/204 [==============================] - 0s 2ms/step - loss: 7.1148e-07 - accuracy: 1.0000\n"
     ]
    }
   ],
   "source": [
    "history2 = model2.fit(X_train, y_train, epochs=50)"
   ]
  },
  {
   "cell_type": "code",
   "execution_count": 250,
   "id": "f2d3197d",
   "metadata": {},
   "outputs": [
    {
     "data": {
      "image/png": "[encoded data removed]",
      "text/plain": [
       "<Figure size 576x360 with 1 Axes>"
      ]
     },
     "metadata": {
      "needs_background": "light"
     },
     "output_type": "display_data"
    }
   ],
   "source": [
    "import pandas as pd\n",
    "\n",
    "pd.DataFrame(history2.history).plot(figsize=(8, 5))\n",
    "plt.grid(True)\n",
    "plt.gca().set_ylim(0, 1)\n",
    "plt.show()"
   ]
  },
  {
   "cell_type": "code",
   "execution_count": 251,
   "id": "4977b09e",
   "metadata": {},
   "outputs": [
    {
     "name": "stdout",
     "output_type": "stream",
     "text": [
      "51/51 [==============================] - 0s 608us/step - loss: 6.8477e-07 - accuracy: 1.0000\n"
     ]
    },
    {
     "data": {
      "text/plain": [
       "[6.847726012892963e-07, 1.0]"
      ]
     },
     "execution_count": 251,
     "metadata": {},
     "output_type": "execute_result"
    }
   ],
   "source": [
    "model2.evaluate(X_test, y_test)"
   ]
  },
  {
   "cell_type": "code",
   "execution_count": 252,
   "id": "5a0c6bbd",
   "metadata": {},
   "outputs": [
    {
     "data": {
      "text/plain": [
       "array([[0.],\n",
       "       [1.],\n",
       "       [1.]], dtype=float32)"
      ]
     },
     "execution_count": 252,
     "metadata": {},
     "output_type": "execute_result"
    }
   ],
   "source": [
    "X_new = X_test[:3]\n",
    "y_proba = model2.predict(X_new)\n",
    "y_proba.round(2)"
   ]
  },
  {
   "cell_type": "code",
   "execution_count": 253,
   "id": "d2a335bc",
   "metadata": {},
   "outputs": [
    {
     "data": {
      "text/plain": [
       "array([[0],\n",
       "       [1],\n",
       "       [1]])"
      ]
     },
     "execution_count": 253,
     "metadata": {},
     "output_type": "execute_result"
    }
   ],
   "source": [
    "model2.predict_classes(X_new)"
   ]
  },
  {
   "cell_type": "code",
   "execution_count": 254,
   "id": "e306d6c0",
   "metadata": {},
   "outputs": [
    {
     "data": {
      "text/plain": [
       "1971    0\n",
       "6654    1\n",
       "5606    1\n",
       "Name: class, dtype: int64"
      ]
     },
     "execution_count": 254,
     "metadata": {},
     "output_type": "execute_result"
    }
   ],
   "source": [
    "y_new = y_test[:3]\n",
    "y_new"
   ]
  },
  {
   "cell_type": "markdown",
   "id": "f3df65da",
   "metadata": {},
   "source": [
    "# Model 3"
   ]
  },
  {
   "cell_type": "code",
   "execution_count": 255,
   "id": "ce45e28a",
   "metadata": {},
   "outputs": [],
   "source": [
    "model3 = keras.models.Sequential()\n",
    "model3.add(keras.layers.Flatten(input_shape=[107]))\n",
    "model3.add(keras.layers.Dense(10, activation=\"tanh\"))\n",
    "model3.add(keras.layers.Dense(1, activation=\"sigmoid\"))"
   ]
  },
  {
   "cell_type": "code",
   "execution_count": 256,
   "id": "0ca39ff3",
   "metadata": {},
   "outputs": [
    {
     "name": "stdout",
     "output_type": "stream",
     "text": [
      "Model: \"sequential_12\"\n",
      "_________________________________________________________________\n",
      "Layer (type)                 Output Shape              Param #   \n",
      "=================================================================\n",
      "flatten_12 (Flatten)         (None, 107)               0         \n",
      "_________________________________________________________________\n",
      "dense_35 (Dense)             (None, 10)                1080      \n",
      "_________________________________________________________________\n",
      "dense_36 (Dense)             (None, 1)                 11        \n",
      "=================================================================\n",
      "Total params: 1,091\n",
      "Trainable params: 1,091\n",
      "Non-trainable params: 0\n",
      "_________________________________________________________________\n"
     ]
    }
   ],
   "source": [
    "model3.summary()"
   ]
  },
  {
   "cell_type": "code",
   "execution_count": 257,
   "id": "ca125a01",
   "metadata": {},
   "outputs": [
    {
     "data": {
      "text/plain": [
       "<tf.Variable 'UnreadVariable' shape=() dtype=float32, numpy=0.001>"
      ]
     },
     "execution_count": 257,
     "metadata": {},
     "output_type": "execute_result"
    }
   ],
   "source": [
    "optimizer.learning_rate.assign(0.001)"
   ]
  },
  {
   "cell_type": "code",
   "execution_count": 266,
   "id": "3cb32ccc",
   "metadata": {},
   "outputs": [],
   "source": [
    "model3.compile(loss=\"binary_crossentropy\",\n",
    "              optimizer=\"sgd\",\n",
    "              metrics=[\"accuracy\"])"
   ]
  },
  {
   "cell_type": "code",
   "execution_count": 267,
   "id": "88d3c136",
   "metadata": {},
   "outputs": [
    {
     "name": "stdout",
     "output_type": "stream",
     "text": [
      "Epoch 1/20\n",
      "  1/204 [..............................] - ETA: 0s - loss: 0.0367 - accuracy: 1.0000WARNING:tensorflow:Callbacks method `on_train_batch_end` is slow compared to the batch time (batch time: 0.0000s vs `on_train_batch_end` time: 0.0010s). Check your callbacks.\n",
      "204/204 [==============================] - 0s 706us/step - loss: 0.0566 - accuracy: 0.9860\n",
      "Epoch 2/20\n",
      "204/204 [==============================] - 0s 627us/step - loss: 0.0518 - accuracy: 0.9869\n",
      "Epoch 3/20\n",
      "204/204 [==============================] - 0s 581us/step - loss: 0.0477 - accuracy: 0.9886\n",
      "Epoch 4/20\n",
      "204/204 [==============================] - 0s 604us/step - loss: 0.0441 - accuracy: 0.9906\n",
      "Epoch 5/20\n",
      "204/204 [==============================] - 0s 603us/step - loss: 0.0409 - accuracy: 0.9909\n",
      "Epoch 6/20\n",
      "204/204 [==============================] - 0s 600us/step - loss: 0.0382 - accuracy: 0.9922\n",
      "Epoch 7/20\n",
      "204/204 [==============================] - 0s 624us/step - loss: 0.0357 - accuracy: 0.9934\n",
      "Epoch 8/20\n",
      "204/204 [==============================] - 0s 612us/step - loss: 0.0335 - accuracy: 0.9946\n",
      "Epoch 9/20\n",
      "204/204 [==============================] - 0s 627us/step - loss: 0.0315 - accuracy: 0.9951\n",
      "Epoch 10/20\n",
      "204/204 [==============================] - 0s 688us/step - loss: 0.0297 - accuracy: 0.9958\n",
      "Epoch 11/20\n",
      "204/204 [==============================] - 0s 618us/step - loss: 0.0281 - accuracy: 0.9963\n",
      "Epoch 12/20\n",
      "204/204 [==============================] - 0s 643us/step - loss: 0.0266 - accuracy: 0.9968\n",
      "Epoch 13/20\n",
      "204/204 [==============================] - 0s 625us/step - loss: 0.0252 - accuracy: 0.9971\n",
      "Epoch 14/20\n",
      "204/204 [==============================] - 0s 643us/step - loss: 0.0240 - accuracy: 0.9974\n",
      "Epoch 15/20\n",
      "204/204 [==============================] - 0s 617us/step - loss: 0.0228 - accuracy: 0.9975\n",
      "Epoch 16/20\n",
      "204/204 [==============================] - 0s 652us/step - loss: 0.0218 - accuracy: 0.9975\n",
      "Epoch 17/20\n",
      "204/204 [==============================] - 0s 643us/step - loss: 0.0208 - accuracy: 0.9975\n",
      "Epoch 18/20\n",
      "204/204 [==============================] - 0s 679us/step - loss: 0.0199 - accuracy: 0.9975\n",
      "Epoch 19/20\n",
      "204/204 [==============================] - 0s 785us/step - loss: 0.0190 - accuracy: 0.9977\n",
      "Epoch 20/20\n",
      "204/204 [==============================] - 0s 2ms/step - loss: 0.0182 - accuracy: 0.9977\n"
     ]
    }
   ],
   "source": [
    "history3 = model3.fit(X_train, y_train, epochs=20)"
   ]
  },
  {
   "cell_type": "code",
   "execution_count": 268,
   "id": "0467d875",
   "metadata": {},
   "outputs": [
    {
     "data": {
      "image/png": "[encoded data removed]",
      "text/plain": [
       "<Figure size 576x360 with 1 Axes>"
      ]
     },
     "metadata": {
      "needs_background": "light"
     },
     "output_type": "display_data"
    }
   ],
   "source": [
    "import pandas as pd\n",
    "\n",
    "pd.DataFrame(history3.history).plot(figsize=(8, 5))\n",
    "plt.grid(True)\n",
    "plt.gca().set_ylim(0, 1)\n",
    "plt.show()"
   ]
  },
  {
   "cell_type": "code",
   "execution_count": 269,
   "id": "6a2daea3",
   "metadata": {},
   "outputs": [
    {
     "name": "stdout",
     "output_type": "stream",
     "text": [
      "51/51 [==============================] - 0s 611us/step - loss: 0.0188 - accuracy: 0.9988\n"
     ]
    },
    {
     "data": {
      "text/plain": [
       "[0.018780333921313286, 0.998769223690033]"
      ]
     },
     "execution_count": 269,
     "metadata": {},
     "output_type": "execute_result"
    }
   ],
   "source": [
    "model3.evaluate(X_test, y_test)"
   ]
  },
  {
   "cell_type": "code",
   "execution_count": 270,
   "id": "b1c5655b",
   "metadata": {},
   "outputs": [
    {
     "data": {
      "text/plain": [
       "array([[0.],\n",
       "       [1.],\n",
       "       [1.],\n",
       "       [0.],\n",
       "       [1.],\n",
       "       [1.]], dtype=float32)"
      ]
     },
     "execution_count": 270,
     "metadata": {},
     "output_type": "execute_result"
    }
   ],
   "source": [
    "X_new = X_test[:6]\n",
    "y_proba = model3.predict(X_new)\n",
    "y_proba.round(2)"
   ]
  },
  {
   "cell_type": "code",
   "execution_count": 271,
   "id": "9f1104a0",
   "metadata": {},
   "outputs": [
    {
     "data": {
      "text/plain": [
       "array([[0],\n",
       "       [1],\n",
       "       [1],\n",
       "       [0],\n",
       "       [1],\n",
       "       [1]])"
      ]
     },
     "execution_count": 271,
     "metadata": {},
     "output_type": "execute_result"
    }
   ],
   "source": [
    "model3.predict_classes(X_new)"
   ]
  },
  {
   "cell_type": "code",
   "execution_count": 272,
   "id": "62e705fa",
   "metadata": {},
   "outputs": [
    {
     "data": {
      "text/plain": [
       "1971    0\n",
       "6654    1\n",
       "5606    1\n",
       "3332    0\n",
       "6988    1\n",
       "5761    1\n",
       "Name: class, dtype: int64"
      ]
     },
     "execution_count": 272,
     "metadata": {},
     "output_type": "execute_result"
    }
   ],
   "source": [
    "y_new = y_test[:6]\n",
    "y_new"
   ]
  },
  {
   "cell_type": "code",
   "execution_count": null,
   "id": "aca546e7",
   "metadata": {},
   "outputs": [],
   "source": []
  },
  {
   "cell_type": "code",
   "execution_count": null,
   "id": "8ba4cb50",
   "metadata": {},
   "outputs": [],
   "source": []
  }
 ],
 "metadata": {
  "kernelspec": {
   "display_name": "Python 3 (ipykernel)",
   "language": "python",
   "name": "python3"
  },
  "language_info": {
   "codemirror_mode": {
    "name": "ipython",
    "version": 3
   },
   "file_extension": ".py",
   "mimetype": "text/x-python",
   "name": "python",
   "nbconvert_exporter": "python",
   "pygments_lexer": "ipython3",
   "version": "3.8.8"
  }
 },
 "nbformat": 4,
 "nbformat_minor": 5
}
